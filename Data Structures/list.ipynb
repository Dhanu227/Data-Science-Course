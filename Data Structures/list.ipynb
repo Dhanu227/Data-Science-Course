{
 "cells": [
  {
   "cell_type": "markdown",
   "metadata": {},
   "source": [
    "## List Comprehension\n",
    "\n",
    "Basics Syntax  [expression for items in iterable]\n",
    "\n",
    "with conditional logic [expression for item in iterable if condition]\n",
    "\n"
   ]
  },
  {
   "cell_type": "code",
   "execution_count": 5,
   "metadata": {},
   "outputs": [
    {
     "name": "stdout",
     "output_type": "stream",
     "text": [
      "[0, 1, 4, 9, 16, 25, 36, 49, 64, 81]\n"
     ]
    }
   ],
   "source": [
    "Square=[num**2 for num in range(10)]\n",
    "print(Square)"
   ]
  },
  {
   "cell_type": "code",
   "execution_count": 6,
   "metadata": {},
   "outputs": [
    {
     "name": "stdout",
     "output_type": "stream",
     "text": [
      "[5, 7, 3, 9]\n"
     ]
    }
   ],
   "source": [
    "words=['hello','mathhew','Ron','Dhananjay']\n",
    "length=[len(word) for word in words]\n",
    "print(length)"
   ]
  },
  {
   "cell_type": "markdown",
   "metadata": {},
   "source": [
    "Organizing Student Grades\n",
    "\n",
    "> create a list to store and calculate average grades for students\n"
   ]
  },
  {
   "cell_type": "code",
   "execution_count": 2,
   "metadata": {},
   "outputs": [
    {
     "name": "stdout",
     "output_type": "stream",
     "text": [
      "Average Grade:  71.0\n",
      "Higest grade: 98\n",
      "Lowest grade: 23\n"
     ]
    }
   ],
   "source": [
    "grades=[67,23,56,78,87,98]\n",
    "\n",
    "grades.append(88)\n",
    "\n",
    "average_grade=sum(grades)/len(grades)\n",
    "print(f'Average Grade: {average_grade: }')\n",
    "\n",
    "highest_grade=max(grades)\n",
    "lowest_grade=min(grades)\n",
    "print(f'Higest grade: {highest_grade}')\n",
    "print(f'Lowest grade: {lowest_grade}')"
   ]
  },
  {
   "cell_type": "code",
   "execution_count": 1,
   "metadata": {},
   "outputs": [
    {
     "name": "stdout",
     "output_type": "stream",
     "text": [
      "First element: 1\n",
      "Middle element: 11\n",
      "Last element: 20\n"
     ]
    }
   ],
   "source": [
    "# Step 1: Create a list of the first 20 numbers\n",
    "numbers = list(range(1, 21))\n",
    "\n",
    "# Step 2: Identify the first element\n",
    "first_element = numbers[0]\n",
    "\n",
    "# Step 3: Identify the middle element\n",
    "middle_index = len(numbers) // 2\n",
    "middle_element = numbers[middle_index]\n",
    "\n",
    "# Step 4: Identify the last element\n",
    "last_element = numbers[-1]\n",
    "\n",
    "# Print the elements\n",
    "print(\"First element:\", first_element)\n",
    "print(\"Middle element:\", middle_element)\n",
    "print(\"Last element:\", last_element)\n"
   ]
  },
  {
   "cell_type": "code",
   "execution_count": 2,
   "metadata": {},
   "outputs": [
    {
     "name": "stdout",
     "output_type": "stream",
     "text": [
      "Original list: [6, 10, 61, 16, 67, 54, 12, 7, 36, 40, 43, 68, 52, 31, 18, 81, 3, 11, 93, 91]\n",
      "Sorted in ascending order: [3, 6, 7, 10, 11, 12, 16, 18, 31, 36, 40, 43, 52, 54, 61, 67, 68, 81, 91, 93]\n",
      "Sorted in descending order: [93, 91, 81, 68, 67, 61, 54, 52, 43, 40, 36, 31, 18, 16, 12, 11, 10, 7, 6, 3]\n",
      "Modified list (no duplicates): [3, 6, 7, 10, 11, 12, 16, 18, 31, 36, 40, 43, 52, 54, 61, 67, 68, 81, 91, 93]\n"
     ]
    }
   ],
   "source": [
    "import random\n",
    "\n",
    "# Step 1: Create a list of random numbers\n",
    "random_numbers = [random.randint(1, 100) for _ in range(20)]\n",
    "\n",
    "# Step 2: Sort the list in ascending order\n",
    "sorted_ascending = sorted(random_numbers)\n",
    "\n",
    "# Step 3: Sort the list in descending order\n",
    "sorted_descending = sorted(random_numbers, reverse=True)\n",
    "\n",
    "# Step 4: Remove duplicates from the list\n",
    "unique_numbers = list(set(random_numbers))\n",
    "\n",
    "# Print the results\n",
    "print(\"Original list:\", random_numbers)\n",
    "print(\"Sorted in ascending order:\", sorted_ascending)\n",
    "print(\"Sorted in descending order:\", sorted_descending)\n",
    "print(\"Modified list (no duplicates):\", unique_numbers)\n"
   ]
  },
  {
   "cell_type": "code",
   "execution_count": 3,
   "metadata": {},
   "outputs": [
    {
     "name": "stdout",
     "output_type": "stream",
     "text": [
      "[1, 2, 3]\n",
      "[4, 5, 6]\n",
      "[7, 8, 9]\n",
      "\n",
      "Element at second row and third column: 6\n"
     ]
    }
   ],
   "source": [
    "# Step 1: Create a nested list to represent a 3x3 matrix\n",
    "matrix = [\n",
    "    [1, 2, 3],\n",
    "    [4, 5, 6],\n",
    "    [7, 8, 9]\n",
    "]\n",
    "\n",
    "# Step 2: Print the matrix\n",
    "#print(\"3x3 Matrix:\")\n",
    "for row in matrix:\n",
    "    print(row)\n",
    "\n",
    "# Step 3: Access and print the element at the second row and third column\n",
    "element = matrix[1][2]  # Note: Indexing starts from 0\n",
    "print(\"\\nElement at second row and third column:\", element)\n"
   ]
  },
  {
   "cell_type": "code",
   "execution_count": null,
   "metadata": {},
   "outputs": [],
   "source": []
  },
  {
   "cell_type": "code",
   "execution_count": null,
   "metadata": {},
   "outputs": [],
   "source": []
  },
  {
   "cell_type": "code",
   "execution_count": null,
   "metadata": {},
   "outputs": [],
   "source": []
  },
  {
   "cell_type": "code",
   "execution_count": null,
   "metadata": {},
   "outputs": [],
   "source": []
  },
  {
   "cell_type": "code",
   "execution_count": null,
   "metadata": {},
   "outputs": [],
   "source": []
  },
  {
   "cell_type": "code",
   "execution_count": null,
   "metadata": {},
   "outputs": [],
   "source": []
  }
 ],
 "metadata": {
  "kernelspec": {
   "display_name": "Python 3",
   "language": "python",
   "name": "python3"
  },
  "language_info": {
   "codemirror_mode": {
    "name": "ipython",
    "version": 3
   },
   "file_extension": ".py",
   "mimetype": "text/x-python",
   "name": "python",
   "nbconvert_exporter": "python",
   "pygments_lexer": "ipython3",
   "version": "3.12.2"
  }
 },
 "nbformat": 4,
 "nbformat_minor": 2
}
