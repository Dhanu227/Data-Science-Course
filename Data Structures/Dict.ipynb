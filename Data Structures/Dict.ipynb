{
 "cells": [
  {
   "cell_type": "code",
   "execution_count": 1,
   "metadata": {},
   "outputs": [
    {
     "name": "stdout",
     "output_type": "stream",
     "text": [
      "{'a': 1, 'b': 3, 'c': 4}\n"
     ]
    }
   ],
   "source": [
    "# Merged Dictionaries\n",
    "\n",
    "dict1={'a':1,'b':2}\n",
    "dict2={'b':3,'c':4}\n",
    "merged_dict={**dict1,**dict2}\n",
    "print(merged_dict)\n",
    "\n"
   ]
  },
  {
   "cell_type": "code",
   "execution_count": 2,
   "metadata": {},
   "outputs": [
    {
     "name": "stdout",
     "output_type": "stream",
     "text": [
      "{'student1': {'name': 'DJ', 'age': 23}, 'student2': {'name': 'SS', 'age': 23}}\n"
     ]
    }
   ],
   "source": [
    "# Nested Dictionaries\n",
    "\n",
    "students={\n",
    "    'student1':{'name':'DJ','age':23},\n",
    "    'student2':{'name':'SS','age':23}\n",
    "}\n",
    "print(students)"
   ]
  },
  {
   "cell_type": "code",
   "execution_count": 6,
   "metadata": {},
   "outputs": [
    {
     "name": "stdout",
     "output_type": "stream",
     "text": [
      "student1:{'name': 'DJ', 'age': 23}\n",
      "name:DJ\n",
      "age:23\n",
      "student2:{'name': 'SS', 'age': 23}\n",
      "name:SS\n",
      "age:23\n"
     ]
    }
   ],
   "source": [
    "# Iterating through nested dictionaries\n",
    "\n",
    "for student_id,student_info in students.items():\n",
    "    print(f'{student_id}:{student_info}')\n",
    "    for key,value in student_info.items():\n",
    "        print(f'{key}:{value}')"
   ]
  },
  {
   "cell_type": "code",
   "execution_count": 7,
   "metadata": {},
   "outputs": [
    {
     "name": "stdout",
     "output_type": "stream",
     "text": [
      "{0: 0, 1: 1, 2: 4, 3: 9, 4: 16}\n"
     ]
    }
   ],
   "source": [
    "# Dictionary Comprehension\n",
    "\n",
    "squares={x:x**2 for x in range(5)}\n",
    "print(squares)"
   ]
  },
  {
   "cell_type": "code",
   "execution_count": 10,
   "metadata": {},
   "outputs": [
    {
     "name": "stdout",
     "output_type": "stream",
     "text": [
      "{1: 2, 32: 1, 23: 1, 34: 2, 22: 2, 3: 3, 4: 1, 2: 2, 43: 1}\n"
     ]
    }
   ],
   "source": [
    "## Use a dictionary to count the frequency of element in the list\n",
    "\n",
    "numbers=[1,1,32,23,34,22,34,22,3,4,3,2,2,3,43]\n",
    "frequency={}\n",
    "\n",
    "for number in numbers:\n",
    "    if number in frequency:\n",
    "        frequency[number]+=1\n",
    "    else:\n",
    "        frequency[number]=1\n",
    "\n",
    "print(frequency)"
   ]
  },
  {
   "cell_type": "code",
   "execution_count": null,
   "metadata": {},
   "outputs": [],
   "source": []
  },
  {
   "cell_type": "code",
   "execution_count": null,
   "metadata": {},
   "outputs": [],
   "source": []
  },
  {
   "cell_type": "code",
   "execution_count": null,
   "metadata": {},
   "outputs": [],
   "source": []
  }
 ],
 "metadata": {
  "kernelspec": {
   "display_name": "Python 3",
   "language": "python",
   "name": "python3"
  },
  "language_info": {
   "codemirror_mode": {
    "name": "ipython",
    "version": 3
   },
   "file_extension": ".py",
   "mimetype": "text/x-python",
   "name": "python",
   "nbconvert_exporter": "python",
   "pygments_lexer": "ipython3",
   "version": "3.12.2"
  }
 },
 "nbformat": 4,
 "nbformat_minor": 2
}
